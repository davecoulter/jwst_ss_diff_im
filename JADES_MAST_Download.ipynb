{
 "cells": [
  {
   "cell_type": "markdown",
   "id": "0",
   "metadata": {},
   "source": [
    "<img style=\"float: center;\" src='./assets/jWST-SS-1300x300_Banner2.jpg' width=\"1000px\"/> "
   ]
  },
  {
   "cell_type": "code",
   "execution_count": null,
   "id": "1",
   "metadata": {},
   "outputs": [],
   "source": [
    "from matplotlib import pyplot as plt\n",
    "import numpy as np\n",
    "from astropy.table import Table\n",
    "import os,shutil,glob,sys,traceback\n",
    "from astropy.cosmology import LambdaCDM\n",
    "import pdb\n",
    "import pickle\n",
    "from astropy.io import fits\n",
    "from astroquery.mast import Observations\n",
    "import jhat\n",
    "from jhat import jwst_photclass,hst_photclass,st_wcs_align\n",
    "import space_phot\n",
    "import astropy\n",
    "from astropy.coordinates import SkyCoord\n",
    "import astropy.units as u\n",
    "from astropy.time import Time\n",
    "from jwst.pipeline import Image3Pipeline\n",
    "import pprint\n",
    "from astroquery.mast import Observations\n",
    "import subprocess\n",
    "import sewpy\n",
    "from astropy.wcs import WCS\n",
    "\n",
    "# hi"
   ]
  },
  {
   "cell_type": "code",
   "execution_count": null,
   "id": "2",
   "metadata": {},
   "outputs": [],
   "source": [
    "JADES_PID = '1180'\n",
    "\n",
    "# Get supernova positions\n",
    "# https://www.wis-tns.org/object/2023adta\n",
    "SN2023adta = SkyCoord(53.135283, -27.814517, unit=(u.deg, u.deg), frame='icrs')\n",
    "rad=3.0/60.0 # 3 arcmin in deg\n",
    "\n",
    "obs_table = Observations.query_criteria(\n",
    "                                        coordinates=f'{SN2023adta.ra.degree} {SN2023adta.dec.degree}',\n",
    "                                        radius=f\"{rad} deg\",\n",
    "                                        instrument_name=['NIRCAM','NIRCAM/IMAGE'],\n",
    "                                        proposal_id = [JADES_PID],\n",
    "                                        calib_level=[\"3\"],\n",
    "                                        filters=['F200W','F356W']\n",
    "                                        )\n",
    "obs_table"
   ]
  },
  {
   "cell_type": "code",
   "execution_count": null,
   "id": "3",
   "metadata": {},
   "outputs": [],
   "source": [
    "prod = Observations.get_unique_product_list(obs_table)\n",
    "prod"
   ]
  },
  {
   "cell_type": "code",
   "execution_count": null,
   "id": "4",
   "metadata": {},
   "outputs": [],
   "source": [
    "products = Observations.filter_products(prod,\n",
    "                                        productSubGroupDescription=[\"CAL\"],\n",
    "                                        extension=\"fits\")\n",
    "products"
   ]
  },
  {
   "cell_type": "code",
   "execution_count": null,
   "id": "5",
   "metadata": {},
   "outputs": [],
   "source": [
    "epoch_1 = [\"jw01180015001_10101_00006_nrcb2\",\n",
    "\"jw01180015001_10101_00003_nrcb2\",\n",
    "\"jw01180015001_10101_00008_nrcb2\",\n",
    "\"jw01180015001_10101_00009_nrcb2\",\n",
    "\"jw01180015001_10101_00007_nrcb2\",\n",
    "\"jw01180015001_10101_00001_nrcb2\",\n",
    "\"jw01180015001_10101_00004_nrcb2\",\n",
    "\"jw01180015001_10101_00005_nrcb2\",\n",
    "\"jw01180015001_10101_00002_nrcb2\",\n",
    "\"jw01180015001_06101_00007_nrcblong\",\n",
    "\"jw01180015001_06101_00005_nrcblong\",\n",
    "\"jw01180015001_06101_00001_nrcblong\",\n",
    "\"jw01180015001_06101_00002_nrcblong\",\n",
    "\"jw01180015001_06101_00006_nrcblong\",\n",
    "\"jw01180015001_06101_00004_nrcblong\",\n",
    "\"jw01180015001_06101_00009_nrcblong\",\n",
    "\"jw01180015001_06101_00003_nrcblong\",\n",
    "\"jw01180015001_06101_00008_nrcblong\"]\n",
    "\n",
    "epoch_2 =[\n",
    "    \"jw01180013001_10101_00009_nrcb2\",\n",
    "    \"jw01180013001_10101_00002_nrcb2\",\n",
    "    \"jw01180013001_10101_00007_nrcb2\",\n",
    "    \"jw01180013001_10101_00006_nrcb2\",\n",
    "    \"jw01180013001_10101_00003_nrcb2\",\n",
    "    \"jw01180013001_10101_00001_nrcb2\",\n",
    "    \"jw01180013001_10101_00008_nrcb2\",\n",
    "    \"jw01180013001_10101_00004_nrcb2\",\n",
    "    \"jw01180013001_10101_00005_nrcb2\",\n",
    "    \"jw01180013001_06101_00005_nrcblong\",\n",
    "    \"jw01180013001_06101_00004_nrcblong\",\n",
    "    \"jw01180013001_06101_00006_nrcblong\",\n",
    "    \"jw01180013001_06101_00002_nrcblong\",\n",
    "    \"jw01180013001_06101_00008_nrcblong\",\n",
    "    \"jw01180013001_06101_00009_nrcblong\",\n",
    "    \"jw01180013001_06101_00001_nrcblong\",\n",
    "    \"jw01180013001_06101_00007_nrcblong\",\n",
    "    \"jw01180013001_06101_00003_nrcblong\"\n",
    "]\n",
    "\n",
    "\n",
    "\n",
    "products_epoch1 = Observations.filter_products(prod,\n",
    "                                        productSubGroupDescription=[\"CAL\"],\n",
    "                                        extension=\"fits\",\n",
    "                                        obs_id=epoch_1)\n",
    "\n",
    "products_epoch2 = Observations.filter_products(prod,\n",
    "                                        productSubGroupDescription=[\"CAL\"],\n",
    "                                        extension=\"fits\",\n",
    "                                        obs_id=epoch_2)"
   ]
  },
  {
   "cell_type": "code",
   "execution_count": null,
   "id": "6",
   "metadata": {},
   "outputs": [],
   "source": [
    "os.makedirs(\"./JADES_data/epoch1\", exist_ok=True)\n",
    "os.makedirs(\"./JADES_data/epoch2\", exist_ok=True)"
   ]
  },
  {
   "cell_type": "code",
   "execution_count": null,
   "id": "7",
   "metadata": {},
   "outputs": [],
   "source": [
    "manifest1 = Observations.download_products(products_epoch1, download_dir=\"./JADES_data/epoch1\", flat=True)\n"
   ]
  },
  {
   "cell_type": "code",
   "execution_count": null,
   "id": "8",
   "metadata": {},
   "outputs": [],
   "source": [
    "manifest2 = Observations.download_products(products_epoch2, download_dir=\"./JADES_data/epoch2\", flat=True)"
   ]
  },
  {
   "cell_type": "code",
   "execution_count": null,
   "id": "9",
   "metadata": {},
   "outputs": [],
   "source": []
  }
 ],
 "metadata": {
  "kernelspec": {
   "display_name": "Python 3 (ipykernel)",
   "language": "python",
   "name": "python3"
  },
  "language_info": {
   "codemirror_mode": {
    "name": "ipython",
    "version": 3
   },
   "file_extension": ".py",
   "mimetype": "text/x-python",
   "name": "python",
   "nbconvert_exporter": "python",
   "pygments_lexer": "ipython3",
   "version": "3.11.13"
  }
 },
 "nbformat": 4,
 "nbformat_minor": 5
}

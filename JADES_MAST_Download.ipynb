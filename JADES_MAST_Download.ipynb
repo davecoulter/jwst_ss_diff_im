{
 "cells": [
  {
   "cell_type": "markdown",
   "id": "4aafca65-d6db-4557-a9e9-c005eab4044a",
   "metadata": {},
   "source": [
    "<img style=\"float: center;\" src='./assets/jWST-SS-1300x300_Banner2.jpg' width=\"1000px\"/> "
   ]
  },
  {
   "cell_type": "code",
   "execution_count": 6,
   "id": "837cdb42-c13c-4f14-a54e-27fa6c8fcf10",
   "metadata": {},
   "outputs": [],
   "source": [
    "from matplotlib import pyplot as plt\n",
    "import numpy as np\n",
    "from astropy.table import Table\n",
    "import os,shutil,glob,sys,traceback\n",
    "from astropy.cosmology import LambdaCDM\n",
    "import pdb\n",
    "import pickle\n",
    "from astropy.io import fits\n",
    "from astroquery.mast import Observations\n",
    "import jhat\n",
    "from jhat import jwst_photclass,hst_photclass,st_wcs_align\n",
    "import space_phot\n",
    "import astropy\n",
    "from astropy.coordinates import SkyCoord\n",
    "import astropy.units as u\n",
    "from astropy.time import Time\n",
    "from jwst.pipeline import Image3Pipeline\n",
    "import pprint\n",
    "from astroquery.mast import Observations\n",
    "import subprocess\n",
    "import sewpy\n",
    "from astropy.wcs import WCS"
   ]
  },
  {
   "cell_type": "code",
   "execution_count": 7,
   "id": "bbe4a494-2249-4433-a9a1-1d3f0bbd2271",
   "metadata": {
    "scrolled": true
   },
   "outputs": [
    {
     "data": {
      "text/html": [
       "<div><i>Table masked=True length=39</i>\n",
       "<table id=\"table6147470544\" class=\"table-striped table-bordered table-condensed\">\n",
       "<thead><tr><th>intentType</th><th>obs_collection</th><th>provenance_name</th><th>instrument_name</th><th>project</th><th>filters</th><th>wavelength_region</th><th>target_name</th><th>target_classification</th><th>obs_id</th><th>s_ra</th><th>s_dec</th><th>dataproduct_type</th><th>proposal_pi</th><th>calib_level</th><th>t_min</th><th>t_max</th><th>t_exptime</th><th>em_min</th><th>em_max</th><th>obs_title</th><th>t_obs_release</th><th>proposal_id</th><th>proposal_type</th><th>sequence_number</th><th>s_region</th><th>jpegURL</th><th>dataURL</th><th>dataRights</th><th>mtFlag</th><th>srcDen</th><th>obsid</th><th>objID</th><th>objID1</th><th>distance</th></tr></thead>\n",
       "<thead><tr><th>str7</th><th>str4</th><th>str7</th><th>str12</th><th>str4</th><th>str5</th><th>str8</th><th>str29</th><th>str33</th><th>str36</th><th>float64</th><th>float64</th><th>str5</th><th>str21</th><th>int64</th><th>float64</th><th>float64</th><th>float64</th><th>float64</th><th>float64</th><th>str62</th><th>float64</th><th>str4</th><th>str3</th><th>int64</th><th>str115</th><th>str62</th><th>str63</th><th>str6</th><th>bool</th><th>float64</th><th>str9</th><th>str9</th><th>str9</th><th>float64</th></tr></thead>\n",
       "<tr><td>science</td><td>JWST</td><td>CALJWST</td><td>NIRCAM/IMAGE</td><td>JWST</td><td>F356W</td><td>INFRARED</td><td>MEDS0001-replan</td><td>Unidentified; High Latitude Field</td><td>jw01180-o219_t219_nircam_clear-f356w</td><td>53.16163458333334</td><td>-27.822508333333303</td><td>image</td><td>Eisenstein, Daniel J.</td><td>3</td><td>60263.59145759259</td><td>60263.66229165509</td><td>5669.0160000000005</td><td>3140.0</td><td>3980.0</td><td>NIRCam-NIRSpec galaxy assembly survey - GOODS-S - part #1athen</td><td>60631.64543972</td><td>1180</td><td>GTO</td><td>--</td><td>POLYGON 53.112599997 -27.846796753 53.109456757 -27.806370889 53.209371694 -27.800258675 53.212551967 -27.840682262</td><td>mast:JWST/product/jw01180-o219_t219_nircam_clear-f356w_i2d.jpg</td><td>mast:JWST/product/jw01180-o219_t219_nircam_clear-f356w_i2d.fits</td><td>PUBLIC</td><td>False</td><td>nan</td><td>192112125</td><td>810208411</td><td>810208411</td><td>0.0</td></tr>\n",
       "<tr><td>science</td><td>JWST</td><td>CALJWST</td><td>NIRCAM/IMAGE</td><td>JWST</td><td>F356W</td><td>INFRARED</td><td>POINTINGFOUR-A</td><td>Unidentified; High Latitude Field</td><td>jw01180-o018_t014_nircam_clear-f356w</td><td>53.152095833333334</td><td>-27.769305555555547</td><td>image</td><td>Eisenstein, Daniel J.</td><td>3</td><td>59854.60018243056</td><td>59854.75178936343</td><td>12368.763000000003</td><td>3140.0</td><td>3980.0</td><td>NIRCam-NIRSpec galaxy assembly survey - GOODS-S - part #1athen</td><td>60100.7916666</td><td>1180</td><td>GTO</td><td>--</td><td>POLYGON 53.147622255 -27.815774569 53.110412503 -27.797948358 53.156454715 -27.722717262 53.193646284 -27.740531151</td><td>mast:JWST/product/jw01180-o018_t014_nircam_clear-f356w_i2d.jpg</td><td>mast:JWST/product/jw01180-o018_t014_nircam_clear-f356w_i2d.fits</td><td>PUBLIC</td><td>False</td><td>nan</td><td>224093147</td><td>811206561</td><td>811206561</td><td>14.726676099577592</td></tr>\n",
       "<tr><td>science</td><td>JWST</td><td>CALJWST</td><td>NIRCAM/IMAGE</td><td>JWST</td><td>F200W</td><td>INFRARED</td><td>GS-MEDIUM-HST</td><td>--</td><td>jw01180-o028_t028_nircam_clear-f200w</td><td>53.15372125</td><td>-27.780369444444432</td><td>image</td><td>Eisenstein, Daniel J.</td><td>3</td><td>59860.96615611111</td><td>59861.15206190972</td><td>5669.0160000000005</td><td>1755.0</td><td>2226.0</td><td>NIRCam-NIRSpec galaxy assembly survey - GOODS-S - part #1athen</td><td>60226.34187503</td><td>1180</td><td>GTO</td><td>--</td><td>POLYGON 53.08388357 -27.904560956 53.048151945 -27.880367717 53.107414009 -27.811954152 53.143136306 -27.836132126</td><td>mast:JWST/product/jw01180-o028_t028_nircam_clear-f200w_i2d.jpg</td><td>mast:JWST/product/jw01180-o028_t028_nircam_clear-f200w_i2d.fits</td><td>PUBLIC</td><td>False</td><td>nan</td><td>224908641</td><td>810475284</td><td>810475284</td><td>46.60638185210617</td></tr>\n",
       "<tr><td>science</td><td>JWST</td><td>CALJWST</td><td>NIRCAM/IMAGE</td><td>JWST</td><td>F200W</td><td>INFRARED</td><td>MEDS0002a</td><td>Unidentified; High Latitude Field</td><td>jw01180-o220_t220_nircam_clear-f200w</td><td>53.20424</td><td>-27.795958333333317</td><td>image</td><td>Eisenstein, Daniel J.</td><td>3</td><td>60310.14977819444</td><td>60310.213904386575</td><td>5024.808</td><td>1755.0</td><td>2226.0</td><td>NIRCam-NIRSpec galaxy assembly survey - GOODS-S - part #1athen</td><td>60676.52178232</td><td>1180</td><td>GTO</td><td>--</td><td>POLYGON 53.1300604 -27.765260805 53.161863735 -27.734509483 53.236315105 -27.794754521 53.204515209 -27.825522884</td><td>mast:JWST/product/jw01180-o220_t220_nircam_clear-f200w_i2d.jpg</td><td>mast:JWST/product/jw01180-o220_t220_nircam_clear-f200w_i2d.fits</td><td>PUBLIC</td><td>False</td><td>nan</td><td>199975191</td><td>809954108</td><td>809954108</td><td>119.56101134798543</td></tr>\n",
       "<tr><td>science</td><td>JWST</td><td>CALJWST</td><td>NIRCAM/IMAGE</td><td>JWST</td><td>F200W</td><td>INFRARED</td><td>GS-MEDIUM-HST</td><td>--</td><td>jw01180-o030_t028_nircam_clear-f200w</td><td>53.15372125</td><td>-27.780369444444432</td><td>image</td><td>Eisenstein, Daniel J.</td><td>3</td><td>59862.76432083333</td><td>59862.80147789352</td><td>2834.508</td><td>1755.0</td><td>2226.0</td><td>NIRCam-NIRSpec galaxy assembly survey - GOODS-S - part #1athen</td><td>60228.68001146</td><td>1180</td><td>GTO</td><td>--</td><td>POLYGON 53.101777837 -27.938477162 53.067470688 -27.915238448 53.126558376 -27.847098384 53.16085661 -27.870322472</td><td>mast:JWST/product/jw01180-o030_t028_nircam_clear-f200w_i2d.jpg</td><td>mast:JWST/product/jw01180-o030_t028_nircam_clear-f200w_i2d.fits</td><td>PUBLIC</td><td>False</td><td>nan</td><td>97276909</td><td>810418803</td><td>810418803</td><td>120.53681652943298</td></tr>\n",
       "<tr><td>science</td><td>JWST</td><td>CALJWST</td><td>NIRCAM/IMAGE</td><td>JWST</td><td>F200W</td><td>INFRARED</td><td>GS-MEDIUM-HST</td><td>--</td><td>jw01180-o026_t028_nircam_clear-f200w</td><td>53.15372125</td><td>-27.780369444444432</td><td>image</td><td>Eisenstein, Daniel J.</td><td>3</td><td>59859.97540674768</td><td>59860.16118885417</td><td>5669.0160000000005</td><td>1755.0</td><td>2226.0</td><td>NIRCam-NIRSpec galaxy assembly survey - GOODS-S - part #1athen</td><td>60225.36152776</td><td>1180</td><td>GTO</td><td>--</td><td>POLYGON 53.040921238 -27.896468134 53.005119725 -27.872215912 53.064392586 -27.803812562 53.100184767 -27.828049489</td><td>mast:JWST/product/jw01180-o026_t028_nircam_clear-f200w_i2d.jpg</td><td>mast:JWST/product/jw01180-o026_t028_nircam_clear-f200w_i2d.fits</td><td>PUBLIC</td><td>False</td><td>nan</td><td>97275469</td><td>810456576</td><td>810456576</td><td>121.9056363648401</td></tr>\n",
       "<tr><td>science</td><td>JWST</td><td>CALJWST</td><td>NIRCAM/IMAGE</td><td>JWST</td><td>F356W</td><td>INFRARED</td><td>POINTINGTHREE-B</td><td>Unidentified; High Latitude Field</td><td>jw01180-o013_t011_nircam_clear-f356w</td><td>53.14079541666666</td><td>-27.783225000000016</td><td>image</td><td>Eisenstein, Daniel J.</td><td>3</td><td>60220.43756650463</td><td>60220.58929863426</td><td>12368.763000000003</td><td>3140.0</td><td>3980.0</td><td>NIRCam-NIRSpec galaxy assembly survey - GOODS-S - part #1athen</td><td>60591.4120717</td><td>1180</td><td>GTO</td><td>--</td><td>POLYGON 53.136444965 -27.830123414 53.098709209 -27.812047447 53.145096151 -27.736263376 53.18281332 -27.75432675</td><td>mast:JWST/product/jw01180-o013_t011_nircam_clear-f356w_i2d.jpg</td><td>mast:JWST/product/jw01180-o013_t011_nircam_clear-f356w_i2d.fits</td><td>PUBLIC</td><td>False</td><td>nan</td><td>224906792</td><td>810939456</td><td>810939456</td><td>0.0</td></tr>\n",
       "<tr><td>science</td><td>JWST</td><td>CALJWST</td><td>NIRCAM/IMAGE</td><td>JWST</td><td>F200W</td><td>INFRARED</td><td>MEDS0002b</td><td>Unidentified; High Latitude Field</td><td>jw01180-o222_t222_nircam_clear-f200w</td><td>53.169473333333336</td><td>-27.834208333333322</td><td>image</td><td>Eisenstein, Daniel J.</td><td>3</td><td>60310.222650717595</td><td>60310.28640135417</td><td>5024.808</td><td>1755.0</td><td>2226.0</td><td>NIRCam-NIRSpec galaxy assembly survey - GOODS-S - part #1athen</td><td>60676.58075215</td><td>1180</td><td>GTO</td><td>--</td><td>POLYGON 53.09523052 -27.803533705 53.127045437 -27.772782705 53.201522282 -27.833028443 53.16971081 -27.863796512</td><td>mast:JWST/product/jw01180-o222_t222_nircam_clear-f200w_i2d.jpg</td><td>mast:JWST/product/jw01180-o222_t222_nircam_clear-f200w_i2d.fits</td><td>PUBLIC</td><td>False</td><td>nan</td><td>199982450</td><td>809891470</td><td>809891470</td><td>0.0</td></tr>\n",
       "<tr><td>science</td><td>JWST</td><td>CALJWST</td><td>NIRCAM/IMAGE</td><td>JWST</td><td>F356W</td><td>INFRARED</td><td>MEDS0002</td><td>Unidentified; High Latitude Field</td><td>jw01180-o020_t016_nircam_clear-f356w</td><td>53.1855875</td><td>-27.81470833333333</td><td>image</td><td>Eisenstein, Daniel J.</td><td>3</td><td>60224.086834837966</td><td>60224.15741925926</td><td>5669.0160000000005</td><td>3140.0</td><td>3980.0</td><td>NIRCam-NIRSpec galaxy assembly survey - GOODS-S - part #1athen</td><td>60243.68600687</td><td>1180</td><td>GTO</td><td>--</td><td>POLYGON 53.173330917 -27.863239287 53.137186393 -27.838322798 53.198762508 -27.768448206 53.234897897 -27.793348665</td><td>mast:JWST/product/jw01180-o020_t016_nircam_clear-f356w_i2d.jpg</td><td>mast:JWST/product/jw01180-o020_t016_nircam_clear-f356w_i2d.fits</td><td>PUBLIC</td><td>False</td><td>nan</td><td>183117917</td><td>810186328</td><td>810186328</td><td>57.48369560615994</td></tr>\n",
       "<tr><td>...</td><td>...</td><td>...</td><td>...</td><td>...</td><td>...</td><td>...</td><td>...</td><td>...</td><td>...</td><td>...</td><td>...</td><td>...</td><td>...</td><td>...</td><td>...</td><td>...</td><td>...</td><td>...</td><td>...</td><td>...</td><td>...</td><td>...</td><td>...</td><td>...</td><td>...</td><td>...</td><td>...</td><td>...</td><td>...</td><td>...</td><td>...</td><td>...</td><td>...</td><td>...</td></tr>\n",
       "<tr><td>science</td><td>JWST</td><td>CALJWST</td><td>NIRCAM/IMAGE</td><td>JWST</td><td>F356W</td><td>INFRARED</td><td>POINTINGTWO-B</td><td>Unidentified; High Latitude Field</td><td>jw01180-o010_t009_nircam_clear-f356w</td><td>53.18674083333333</td><td>-27.786844444444455</td><td>image</td><td>Eisenstein, Daniel J.</td><td>3</td><td>59852.73194975695</td><td>59852.88330929398</td><td>12368.763000000003</td><td>3140.0</td><td>3980.0</td><td>NIRCam-NIRSpec galaxy assembly survey - GOODS-S - part #1athen</td><td>60100.7916666</td><td>1180</td><td>GTO</td><td>--</td><td>POLYGON 53.182299114 -27.833338352 53.145083326 -27.81551202 53.191133281 -27.740280887 53.228330869 -27.758094888</td><td>mast:JWST/product/jw01180-o010_t009_nircam_clear-f356w_i2d.jpg</td><td>mast:JWST/product/jw01180-o010_t009_nircam_clear-f356w_i2d.fits</td><td>PUBLIC</td><td>False</td><td>nan</td><td>224248590</td><td>811212494</td><td>811212494</td><td>31.409679248285386</td></tr>\n",
       "<tr><td>science</td><td>JWST</td><td>CALJWST</td><td>NIRCAM/IMAGE</td><td>JWST</td><td>F356W</td><td>INFRARED</td><td>GS-MEDIUM-HST</td><td>--</td><td>jw01180-o026_t028_nircam_clear-f356w</td><td>53.15372125</td><td>-27.780369444444432</td><td>image</td><td>Eisenstein, Daniel J.</td><td>3</td><td>59859.93265938658</td><td>59860.20381251157</td><td>5669.0160000000005</td><td>3140.0</td><td>3980.0</td><td>NIRCam-NIRSpec galaxy assembly survey - GOODS-S - part #1athen</td><td>60225.36152776</td><td>1180</td><td>GTO</td><td>--</td><td>POLYGON 53.040119076 -27.895746162 53.00560978 -27.871947507 53.065093402 -27.804516609 53.09959429 -27.828300469</td><td>mast:JWST/product/jw01180-o026_t028_nircam_clear-f356w_i2d.jpg</td><td>mast:JWST/product/jw01180-o026_t028_nircam_clear-f356w_i2d.fits</td><td>PUBLIC</td><td>False</td><td>nan</td><td>97274642</td><td>810456709</td><td>810456709</td><td>123.98997778236095</td></tr>\n",
       "<tr><td>science</td><td>JWST</td><td>CALJWST</td><td>NIRCAM/IMAGE</td><td>JWST</td><td>F200W</td><td>INFRARED</td><td>POINTINGTWO-B</td><td>Unidentified; High Latitude Field</td><td>jw01180-o010_t009_nircam_clear-f200w</td><td>53.18674083333333</td><td>-27.786844444444455</td><td>image</td><td>Eisenstein, Daniel J.</td><td>3</td><td>59853.04286797454</td><td>59853.19435013889</td><td>12368.763000000003</td><td>1755.0</td><td>2226.0</td><td>NIRCam-NIRSpec galaxy assembly survey - GOODS-S - part #1athen</td><td>60100.7916666</td><td>1180</td><td>GTO</td><td>--</td><td>POLYGON 53.183225688 -27.833946474 53.144639614 -27.815843691 53.190304809 -27.739676956 53.228871457 -27.757767062</td><td>mast:JWST/product/jw01180-o010_t009_nircam_clear-f200w_i2d.jpg</td><td>mast:JWST/product/jw01180-o010_t009_nircam_clear-f200w_i2d.fits</td><td>PUBLIC</td><td>False</td><td>nan</td><td>223797762</td><td>811212392</td><td>811212392</td><td>30.172291947039863</td></tr>\n",
       "<tr><td>science</td><td>JWST</td><td>CALJWST</td><td>NIRCAM/IMAGE</td><td>JWST</td><td>F356W</td><td>INFRARED</td><td>POINTINGONE-B</td><td>Unidentified; High Latitude Field</td><td>jw01180-o007_t007_nircam_clear-f356w</td><td>53.177130416666664</td><td>-27.801652777777804</td><td>image</td><td>Eisenstein, Daniel J.</td><td>3</td><td>59851.701438171294</td><td>59851.85304659722</td><td>12368.763000000003</td><td>3140.0</td><td>3980.0</td><td>NIRCam-NIRSpec galaxy assembly survey - GOODS-S - part #1athen</td><td>60100.7916666</td><td>1180</td><td>GTO</td><td>--</td><td>POLYGON 53.172655732 -27.848122659 53.135434863 -27.830296265 53.181491237 -27.75506511 53.218693892 -27.772879165</td><td>mast:JWST/product/jw01180-o007_t007_nircam_clear-f356w_i2d.jpg</td><td>mast:JWST/product/jw01180-o007_t007_nircam_clear-f356w_i2d.fits</td><td>PUBLIC</td><td>False</td><td>nan</td><td>224007792</td><td>810831159</td><td>810831159</td><td>27.486416221884046</td></tr>\n",
       "<tr><td>science</td><td>JWST</td><td>CALJWST</td><td>NIRCAM/IMAGE</td><td>JWST</td><td>F200W</td><td>INFRARED</td><td>POINTINGONE-A</td><td>Unidentified; High Latitude Field</td><td>jw01180-o009_t008_nircam_clear-f200w</td><td>53.175945</td><td>-27.800711111111127</td><td>image</td><td>Eisenstein, Daniel J.</td><td>3</td><td>60217.020875208334</td><td>60217.172857708334</td><td>12368.763000000003</td><td>1755.0</td><td>2226.0</td><td>NIRCam-NIRSpec galaxy assembly survey - GOODS-S - part #1athen</td><td>60583.40166657</td><td>1180</td><td>GTO</td><td>--</td><td>POLYGON 53.172486888 -27.848172305 53.133384753 -27.829829111 53.179378831 -27.753126493 53.21846113 -27.771456743</td><td>mast:JWST/product/jw01180-o009_t008_nircam_clear-f200w_i2d.jpg</td><td>mast:JWST/product/jw01180-o009_t008_nircam_clear-f200w_i2d.fits</td><td>PUBLIC</td><td>False</td><td>nan</td><td>224200328</td><td>810683706</td><td>810683706</td><td>20.50223323800134</td></tr>\n",
       "<tr><td>science</td><td>JWST</td><td>CALJWST</td><td>NIRCAM/IMAGE</td><td>JWST</td><td>F200W</td><td>INFRARED</td><td>POINTINGFOUR-A</td><td>Unidentified; High Latitude Field</td><td>jw01180-o018_t014_nircam_clear-f200w</td><td>53.152095833333334</td><td>-27.769305555555547</td><td>image</td><td>Eisenstein, Daniel J.</td><td>3</td><td>59854.91134878472</td><td>59855.062709756945</td><td>12368.763000000003</td><td>1755.0</td><td>2226.0</td><td>NIRCam-NIRSpec galaxy assembly survey - GOODS-S - part #1athen</td><td>60100.7916666</td><td>1180</td><td>GTO</td><td>--</td><td>POLYGON 53.148548482 -27.816375619 53.109968728 -27.798272864 53.15562189 -27.722113948 53.194182237 -27.740204036</td><td>mast:JWST/product/jw01180-o018_t014_nircam_clear-f200w_i2d.jpg</td><td>mast:JWST/product/jw01180-o018_t014_nircam_clear-f200w_i2d.fits</td><td>PUBLIC</td><td>False</td><td>nan</td><td>223815545</td><td>811206432</td><td>811206432</td><td>13.878976805441432</td></tr>\n",
       "<tr><td>science</td><td>JWST</td><td>CALJWST</td><td>NIRCAM/IMAGE</td><td>JWST</td><td>F200W</td><td>INFRARED</td><td>MEDS0006</td><td>Unidentified; High Latitude Field</td><td>jw01180-o024_t020_nircam_clear-f200w</td><td>53.111024583333325</td><td>-27.784763888888904</td><td>image</td><td>Eisenstein, Daniel J.</td><td>3</td><td>60226.5735787963</td><td>60226.64428767361</td><td>5669.0160000000005</td><td>1755.0</td><td>2226.0</td><td>NIRCam-NIRSpec galaxy assembly survey - GOODS-S - part #1athen</td><td>60595.03274296</td><td>1180</td><td>GTO</td><td>--</td><td>POLYGON 53.099541482 -27.833989012 53.062108799 -27.808634211 53.123454765 -27.737748054 53.160877345 -27.763086329</td><td>mast:JWST/product/jw01180-o024_t020_nircam_clear-f200w_i2d.jpg</td><td>mast:JWST/product/jw01180-o024_t020_nircam_clear-f200w_i2d.fits</td><td>PUBLIC</td><td>False</td><td>nan</td><td>183106700</td><td>810234216</td><td>810234216</td><td>47.75596737876271</td></tr>\n",
       "<tr><td>science</td><td>JWST</td><td>CALJWST</td><td>NIRCAM/IMAGE</td><td>JWST</td><td>F356W</td><td>INFRARED</td><td>GS-MEDIUM-HST</td><td>--</td><td>jw01180-o028_t028_nircam_clear-f356w</td><td>53.15372125</td><td>-27.780369444444432</td><td>image</td><td>Eisenstein, Daniel J.</td><td>3</td><td>59860.92340799769</td><td>59861.19493445602</td><td>5669.0160000000005</td><td>3140.0</td><td>3980.0</td><td>NIRCam-NIRSpec galaxy assembly survey - GOODS-S - part #1athen</td><td>60226.34187503</td><td>1180</td><td>GTO</td><td>--</td><td>POLYGON 53.083087502 -27.903827798 53.048663855 -27.880099699 53.10812458 -27.812672201 53.142539826 -27.836385545</td><td>mast:JWST/product/jw01180-o028_t028_nircam_clear-f356w_i2d.jpg</td><td>mast:JWST/product/jw01180-o028_t028_nircam_clear-f356w_i2d.fits</td><td>PUBLIC</td><td>False</td><td>nan</td><td>224908640</td><td>810475249</td><td>810475249</td><td>47.910576449309275</td></tr>\n",
       "<tr><td>science</td><td>JWST</td><td>CALJWST</td><td>NIRCAM/IMAGE</td><td>JWST</td><td>F356W</td><td>INFRARED</td><td>MEDS0006</td><td>Unidentified; High Latitude Field</td><td>jw01180-o024_t020_nircam_clear-f356w</td><td>53.111024583333325</td><td>-27.784763888888904</td><td>image</td><td>Eisenstein, Daniel J.</td><td>3</td><td>60226.49913960648</td><td>60226.56972626157</td><td>5669.0160000000005</td><td>3140.0</td><td>3980.0</td><td>NIRCam-NIRSpec galaxy assembly survey - GOODS-S - part #1athen</td><td>60595.03274296</td><td>1180</td><td>GTO</td><td>--</td><td>POLYGON 53.09873481 -27.83326696 53.062600609 -27.808350264 53.124172409 -27.73846255 53.160297489 -27.763363234</td><td>mast:JWST/product/jw01180-o024_t020_nircam_clear-f356w_i2d.jpg</td><td>mast:JWST/product/jw01180-o024_t020_nircam_clear-f356w_i2d.fits</td><td>PUBLIC</td><td>False</td><td>nan</td><td>183106693</td><td>810234107</td><td>810234107</td><td>50.29856156618416</td></tr>\n",
       "<tr><td>science</td><td>JWST</td><td>CALJWST</td><td>NIRCAM/IMAGE</td><td>JWST</td><td>F200W</td><td>INFRARED</td><td>POINTINGTHREE-A</td><td>Unidentified; High Latitude Field</td><td>jw01180-o015_t012_nircam_clear-f200w</td><td>53.14265833333333</td><td>-27.78436944444445</td><td>image</td><td>Eisenstein, Daniel J.</td><td>3</td><td>59856.97594366898</td><td>59857.12718024306</td><td>12368.763000000003</td><td>1755.0</td><td>2226.0</td><td>NIRCam-NIRSpec galaxy assembly survey - GOODS-S - part #1athen</td><td>60100.7916666</td><td>1180</td><td>GTO</td><td>--</td><td>POLYGON 53.139106758 -27.831442956 53.100521736 -27.81334024 53.146185712 -27.737173826 53.18475131 -27.755263866</td><td>mast:JWST/product/jw01180-o015_t012_nircam_clear-f200w_i2d.jpg</td><td>mast:JWST/product/jw01180-o015_t012_nircam_clear-f200w_i2d.fits</td><td>PUBLIC</td><td>False</td><td>nan</td><td>223866665</td><td>811558335</td><td>811558335</td><td>0.0</td></tr>\n",
       "</table></div>"
      ],
      "text/plain": [
       "<Table masked=True length=39>\n",
       "intentType obs_collection provenance_name ...   objID1       distance     \n",
       "   str7         str4            str7      ...    str9        float64      \n",
       "---------- -------------- --------------- ... --------- ------------------\n",
       "   science           JWST         CALJWST ... 810208411                0.0\n",
       "   science           JWST         CALJWST ... 811206561 14.726676099577592\n",
       "   science           JWST         CALJWST ... 810475284  46.60638185210617\n",
       "   science           JWST         CALJWST ... 809954108 119.56101134798543\n",
       "   science           JWST         CALJWST ... 810418803 120.53681652943298\n",
       "   science           JWST         CALJWST ... 810456576  121.9056363648401\n",
       "   science           JWST         CALJWST ... 810939456                0.0\n",
       "   science           JWST         CALJWST ... 809891470                0.0\n",
       "   science           JWST         CALJWST ... 810186328  57.48369560615994\n",
       "       ...            ...             ... ...       ...                ...\n",
       "   science           JWST         CALJWST ... 811212494 31.409679248285386\n",
       "   science           JWST         CALJWST ... 810456709 123.98997778236095\n",
       "   science           JWST         CALJWST ... 811212392 30.172291947039863\n",
       "   science           JWST         CALJWST ... 810831159 27.486416221884046\n",
       "   science           JWST         CALJWST ... 810683706  20.50223323800134\n",
       "   science           JWST         CALJWST ... 811206432 13.878976805441432\n",
       "   science           JWST         CALJWST ... 810234216  47.75596737876271\n",
       "   science           JWST         CALJWST ... 810475249 47.910576449309275\n",
       "   science           JWST         CALJWST ... 810234107  50.29856156618416\n",
       "   science           JWST         CALJWST ... 811558335                0.0"
      ]
     },
     "execution_count": 7,
     "metadata": {},
     "output_type": "execute_result"
    }
   ],
   "source": [
    "JADES_PID = '1180'\n",
    "\n",
    "# Get supernova positions\n",
    "# https://www.wis-tns.org/object/2023adta\n",
    "SN2023adta = SkyCoord(53.135283, -27.814517, unit=(u.deg, u.deg), frame='icrs')\n",
    "rad=3.0/60.0 # 3 arcmin in deg\n",
    "\n",
    "obs_table = Observations.query_criteria(\n",
    "                                        coordinates=f'{SN2023adta.ra.degree} {SN2023adta.dec.degree}',\n",
    "                                        radius=f\"{rad} deg\",\n",
    "                                        instrument_name=['NIRCAM','NIRCAM/IMAGE'],\n",
    "                                        proposal_id = [JADES_PID],\n",
    "                                        calib_level=[\"3\"],\n",
    "                                        filters=['F200W','F356W']\n",
    "                                        )\n",
    "obs_table"
   ]
  },
  {
   "cell_type": "code",
   "execution_count": 8,
   "id": "232a54e5-dda1-4325-a366-d0e925efa0bc",
   "metadata": {
    "scrolled": true
   },
   "outputs": [
    {
     "name": "stdout",
     "output_type": "stream",
     "text": [
      "INFO: 311499 of 336960 products were duplicates. Only returning 25461 unique product(s). [astroquery.mast.utils]\n",
      "INFO: To return all products, use `Observations.get_product_list` [astroquery.mast.observations]\n"
     ]
    },
    {
     "data": {
      "text/html": [
       "<div><i>Table length=25461</i>\n",
       "<table id=\"table6083987472\" class=\"table-striped table-bordered table-condensed\">\n",
       "<thead><tr><th>obsID</th><th>obs_collection</th><th>dataproduct_type</th><th>obs_id</th><th>description</th><th>type</th><th>dataURI</th><th>productType</th><th>productGroupDescription</th><th>productSubGroupDescription</th><th>productDocumentationURL</th><th>project</th><th>prvversion</th><th>proposal_id</th><th>productFilename</th><th>size</th><th>parent_obsid</th><th>dataRights</th><th>calib_level</th><th>filters</th></tr></thead>\n",
       "<thead><tr><th>str9</th><th>str4</th><th>str5</th><th>str36</th><th>str64</th><th>str1</th><th>str69</th><th>str9</th><th>str28</th><th>str11</th><th>str1</th><th>str7</th><th>str6</th><th>str4</th><th>str51</th><th>int64</th><th>str9</th><th>str6</th><th>int64</th><th>str5</th></tr></thead>\n",
       "<tr><td>223810605</td><td>JWST</td><td>image</td><td>jw01180007001_10101_00009_nrcb4</td><td>source/target (L3) : association generator</td><td>S</td><td>mast:JWST/product/jw01180-o007_20250525t210127_image2_00011_asn.json</td><td>INFO</td><td>--</td><td>ASN</td><td>--</td><td>CALJWST</td><td>1.18.0</td><td>1180</td><td>jw01180-o007_20250525t210127_image2_00011_asn.json</td><td>1803</td><td>224007745</td><td>PUBLIC</td><td>2</td><td>F200W</td></tr>\n",
       "<tr><td>223773483</td><td>JWST</td><td>image</td><td>jw01180007001_10101_00009_nrcb3</td><td>source/target (L3) : association generator</td><td>S</td><td>mast:JWST/product/jw01180-o007_20250525t210127_image2_00012_asn.json</td><td>INFO</td><td>--</td><td>ASN</td><td>--</td><td>CALJWST</td><td>1.18.0</td><td>1180</td><td>jw01180-o007_20250525t210127_image2_00012_asn.json</td><td>1803</td><td>224007745</td><td>PUBLIC</td><td>2</td><td>F200W</td></tr>\n",
       "<tr><td>223852702</td><td>JWST</td><td>image</td><td>jw01180007001_10101_00009_nrcb2</td><td>source/target (L3) : association generator</td><td>S</td><td>mast:JWST/product/jw01180-o007_20250525t210127_image2_00013_asn.json</td><td>INFO</td><td>--</td><td>ASN</td><td>--</td><td>CALJWST</td><td>1.18.0</td><td>1180</td><td>jw01180-o007_20250525t210127_image2_00013_asn.json</td><td>1803</td><td>224007745</td><td>PUBLIC</td><td>2</td><td>F200W</td></tr>\n",
       "<tr><td>95382691</td><td>JWST</td><td>image</td><td>jw01180007001_10101_00009_nrcb1</td><td>source/target (L3) : association generator</td><td>S</td><td>mast:JWST/product/jw01180-o007_20250525t210127_image2_00014_asn.json</td><td>INFO</td><td>--</td><td>ASN</td><td>--</td><td>CALJWST</td><td>1.18.0</td><td>1180</td><td>jw01180-o007_20250525t210127_image2_00014_asn.json</td><td>1803</td><td>224007745</td><td>PUBLIC</td><td>2</td><td>F200W</td></tr>\n",
       "<tr><td>223929256</td><td>JWST</td><td>image</td><td>jw01180007001_10101_00009_nrca4</td><td>source/target (L3) : association generator</td><td>S</td><td>mast:JWST/product/jw01180-o007_20250525t210127_image2_00016_asn.json</td><td>INFO</td><td>--</td><td>ASN</td><td>--</td><td>CALJWST</td><td>1.18.0</td><td>1180</td><td>jw01180-o007_20250525t210127_image2_00016_asn.json</td><td>1803</td><td>224007745</td><td>PUBLIC</td><td>2</td><td>F200W</td></tr>\n",
       "<tr><td>95382517</td><td>JWST</td><td>image</td><td>jw01180007001_10101_00009_nrca3</td><td>source/target (L3) : association generator</td><td>S</td><td>mast:JWST/product/jw01180-o007_20250525t210127_image2_00017_asn.json</td><td>INFO</td><td>--</td><td>ASN</td><td>--</td><td>CALJWST</td><td>1.18.0</td><td>1180</td><td>jw01180-o007_20250525t210127_image2_00017_asn.json</td><td>1803</td><td>224007745</td><td>PUBLIC</td><td>2</td><td>F200W</td></tr>\n",
       "<tr><td>223784156</td><td>JWST</td><td>image</td><td>jw01180007001_10101_00009_nrca2</td><td>source/target (L3) : association generator</td><td>S</td><td>mast:JWST/product/jw01180-o007_20250525t210127_image2_00018_asn.json</td><td>INFO</td><td>--</td><td>ASN</td><td>--</td><td>CALJWST</td><td>1.18.0</td><td>1180</td><td>jw01180-o007_20250525t210127_image2_00018_asn.json</td><td>1803</td><td>224007745</td><td>PUBLIC</td><td>2</td><td>F200W</td></tr>\n",
       "<tr><td>223919306</td><td>JWST</td><td>image</td><td>jw01180007001_10101_00009_nrca1</td><td>source/target (L3) : association generator</td><td>S</td><td>mast:JWST/product/jw01180-o007_20250525t210127_image2_00019_asn.json</td><td>INFO</td><td>--</td><td>ASN</td><td>--</td><td>CALJWST</td><td>1.18.0</td><td>1180</td><td>jw01180-o007_20250525t210127_image2_00019_asn.json</td><td>1803</td><td>224007745</td><td>PUBLIC</td><td>2</td><td>F200W</td></tr>\n",
       "<tr><td>223882285</td><td>JWST</td><td>image</td><td>jw01180007001_10101_00008_nrcb4</td><td>source/target (L3) : association generator</td><td>S</td><td>mast:JWST/product/jw01180-o007_20250525t210127_image2_00021_asn.json</td><td>INFO</td><td>--</td><td>ASN</td><td>--</td><td>CALJWST</td><td>1.18.0</td><td>1180</td><td>jw01180-o007_20250525t210127_image2_00021_asn.json</td><td>1803</td><td>224007745</td><td>PUBLIC</td><td>2</td><td>F200W</td></tr>\n",
       "<tr><td>...</td><td>...</td><td>...</td><td>...</td><td>...</td><td>...</td><td>...</td><td>...</td><td>...</td><td>...</td><td>...</td><td>...</td><td>...</td><td>...</td><td>...</td><td>...</td><td>...</td><td>...</td><td>...</td><td>...</td></tr>\n",
       "<tr><td>200018669</td><td>JWST</td><td>image</td><td>jw01180223001_10101_00006_nrca1</td><td>FGS guide star tracking</td><td>S</td><td>mast:JWST/product/jw01180223001_gs-track_2024002041158_cal.fits</td><td>AUXILIARY</td><td>--</td><td>GS-TRACK</td><td>--</td><td>CALJWST</td><td>1.18.0</td><td>1180</td><td>jw01180223001_gs-track_2024002041158_cal.fits</td><td>1693440</td><td>200061663</td><td>PUBLIC</td><td>2</td><td>F200W</td></tr>\n",
       "<tr><td>200018669</td><td>JWST</td><td>image</td><td>jw01180223001_10101_00006_nrca1</td><td>FGS guide star tracking</td><td>S</td><td>mast:JWST/product/jw01180223001_gs-track_2024002041158_stream.fits</td><td>AUXILIARY</td><td>--</td><td>GS-TRACK</td><td>--</td><td>CALJWST</td><td>--</td><td>1180</td><td>jw01180223001_gs-track_2024002041158_stream.fits</td><td>547200</td><td>200061663</td><td>PUBLIC</td><td>1</td><td>F200W</td></tr>\n",
       "<tr><td>200018669</td><td>JWST</td><td>image</td><td>jw01180223001_10101_00006_nrca1</td><td>FGS guide star tracking</td><td>S</td><td>mast:JWST/product/jw01180223001_gs-track_2024002041158_uncal.fits</td><td>AUXILIARY</td><td>--</td><td>GS-TRACK</td><td>--</td><td>CALJWST</td><td>--</td><td>1180</td><td>jw01180223001_gs-track_2024002041158_uncal.fits</td><td>659520</td><td>200061663</td><td>PUBLIC</td><td>1</td><td>F200W</td></tr>\n",
       "<tr><td>200018669</td><td>JWST</td><td>image</td><td>jw01180223001_10101_00006_nrca1</td><td>FGS guide star tracking</td><td>S</td><td>mast:JWST/product/jw01180223001_gs-track_2024002042750_cal.fits</td><td>AUXILIARY</td><td>--</td><td>GS-TRACK</td><td>--</td><td>CALJWST</td><td>1.18.0</td><td>1180</td><td>jw01180223001_gs-track_2024002042750_cal.fits</td><td>1710720</td><td>200061663</td><td>PUBLIC</td><td>2</td><td>F200W</td></tr>\n",
       "<tr><td>200018669</td><td>JWST</td><td>image</td><td>jw01180223001_10101_00006_nrca1</td><td>FGS guide star tracking</td><td>S</td><td>mast:JWST/product/jw01180223001_gs-track_2024002042750_stream.fits</td><td>AUXILIARY</td><td>--</td><td>GS-TRACK</td><td>--</td><td>CALJWST</td><td>--</td><td>1180</td><td>jw01180223001_gs-track_2024002042750_stream.fits</td><td>552960</td><td>200061663</td><td>PUBLIC</td><td>1</td><td>F200W</td></tr>\n",
       "<tr><td>200018669</td><td>JWST</td><td>image</td><td>jw01180223001_10101_00006_nrca1</td><td>FGS guide star tracking</td><td>S</td><td>mast:JWST/product/jw01180223001_gs-track_2024002042750_uncal.fits</td><td>AUXILIARY</td><td>--</td><td>GS-TRACK</td><td>--</td><td>CALJWST</td><td>--</td><td>1180</td><td>jw01180223001_gs-track_2024002042750_uncal.fits</td><td>665280</td><td>200061663</td><td>PUBLIC</td><td>1</td><td>F200W</td></tr>\n",
       "<tr><td>200018669</td><td>JWST</td><td>image</td><td>jw01180223001_10101_00006_nrca1</td><td>FGS guide star tracking</td><td>S</td><td>mast:JWST/product/jw01180223001_gs-track_2024002044324_cal.fits</td><td>AUXILIARY</td><td>--</td><td>GS-TRACK</td><td>--</td><td>CALJWST</td><td>1.18.0</td><td>1180</td><td>jw01180223001_gs-track_2024002044324_cal.fits</td><td>1693440</td><td>200061663</td><td>PUBLIC</td><td>2</td><td>F200W</td></tr>\n",
       "<tr><td>200018669</td><td>JWST</td><td>image</td><td>jw01180223001_10101_00006_nrca1</td><td>FGS guide star tracking</td><td>S</td><td>mast:JWST/product/jw01180223001_gs-track_2024002044324_stream.fits</td><td>AUXILIARY</td><td>--</td><td>GS-TRACK</td><td>--</td><td>CALJWST</td><td>--</td><td>1180</td><td>jw01180223001_gs-track_2024002044324_stream.fits</td><td>547200</td><td>200061663</td><td>PUBLIC</td><td>1</td><td>F200W</td></tr>\n",
       "<tr><td>200018669</td><td>JWST</td><td>image</td><td>jw01180223001_10101_00006_nrca1</td><td>FGS guide star tracking</td><td>S</td><td>mast:JWST/product/jw01180223001_gs-track_2024002044324_uncal.fits</td><td>AUXILIARY</td><td>--</td><td>GS-TRACK</td><td>--</td><td>CALJWST</td><td>--</td><td>1180</td><td>jw01180223001_gs-track_2024002044324_uncal.fits</td><td>659520</td><td>200061663</td><td>PUBLIC</td><td>1</td><td>F200W</td></tr>\n",
       "<tr><td>95382444</td><td>JWST</td><td>image</td><td>jw01180007001_10101_00002_nrca1</td><td>source/target (L3) : association pool</td><td>S</td><td>mast:JWST/product/jw01180_20250525t210127_pool.csv</td><td>INFO</td><td>--</td><td>POOL</td><td>--</td><td>CALJWST</td><td>1.18.0</td><td>1180</td><td>jw01180_20250525t210127_pool.csv</td><td>3698795</td><td>224007745</td><td>PUBLIC</td><td>2</td><td>F200W</td></tr>\n",
       "</table></div>"
      ],
      "text/plain": [
       "<Table length=25461>\n",
       "  obsID   obs_collection dataproduct_type ... dataRights calib_level filters\n",
       "   str9        str4            str5       ...    str6       int64      str5 \n",
       "--------- -------------- ---------------- ... ---------- ----------- -------\n",
       "223810605           JWST            image ...     PUBLIC           2   F200W\n",
       "223773483           JWST            image ...     PUBLIC           2   F200W\n",
       "223852702           JWST            image ...     PUBLIC           2   F200W\n",
       " 95382691           JWST            image ...     PUBLIC           2   F200W\n",
       "223929256           JWST            image ...     PUBLIC           2   F200W\n",
       " 95382517           JWST            image ...     PUBLIC           2   F200W\n",
       "223784156           JWST            image ...     PUBLIC           2   F200W\n",
       "223919306           JWST            image ...     PUBLIC           2   F200W\n",
       "223882285           JWST            image ...     PUBLIC           2   F200W\n",
       "      ...            ...              ... ...        ...         ...     ...\n",
       "200018669           JWST            image ...     PUBLIC           2   F200W\n",
       "200018669           JWST            image ...     PUBLIC           1   F200W\n",
       "200018669           JWST            image ...     PUBLIC           1   F200W\n",
       "200018669           JWST            image ...     PUBLIC           2   F200W\n",
       "200018669           JWST            image ...     PUBLIC           1   F200W\n",
       "200018669           JWST            image ...     PUBLIC           1   F200W\n",
       "200018669           JWST            image ...     PUBLIC           2   F200W\n",
       "200018669           JWST            image ...     PUBLIC           1   F200W\n",
       "200018669           JWST            image ...     PUBLIC           1   F200W\n",
       " 95382444           JWST            image ...     PUBLIC           2   F200W"
      ]
     },
     "execution_count": 8,
     "metadata": {},
     "output_type": "execute_result"
    }
   ],
   "source": [
    "prod = Observations.get_unique_product_list(obs_table)\n",
    "prod"
   ]
  },
  {
   "cell_type": "code",
   "execution_count": 9,
   "id": "bb16c979-c18f-45ff-bee3-8afc18e0ec3a",
   "metadata": {
    "scrolled": true
   },
   "outputs": [
    {
     "data": {
      "text/html": [
       "<div><i>Table length=1398</i>\n",
       "<table id=\"table4411008016\" class=\"table-striped table-bordered table-condensed\">\n",
       "<thead><tr><th>obsID</th><th>obs_collection</th><th>dataproduct_type</th><th>obs_id</th><th>description</th><th>type</th><th>dataURI</th><th>productType</th><th>productGroupDescription</th><th>productSubGroupDescription</th><th>productDocumentationURL</th><th>project</th><th>prvversion</th><th>proposal_id</th><th>productFilename</th><th>size</th><th>parent_obsid</th><th>dataRights</th><th>calib_level</th><th>filters</th></tr></thead>\n",
       "<thead><tr><th>str9</th><th>str4</th><th>str5</th><th>str36</th><th>str64</th><th>str1</th><th>str69</th><th>str9</th><th>str28</th><th>str11</th><th>str1</th><th>str7</th><th>str6</th><th>str4</th><th>str51</th><th>int64</th><th>str9</th><th>str6</th><th>int64</th><th>str5</th></tr></thead>\n",
       "<tr><td>95382616</td><td>JWST</td><td>image</td><td>jw01180007001_06101_00001_nrcalong</td><td>exposure (L2b): 2D calibrated exposure average over integrations</td><td>S</td><td>mast:JWST/product/jw01180007001_06101_00001_nrcalong_cal.fits</td><td>SCIENCE</td><td>--</td><td>CAL</td><td>--</td><td>CALJWST</td><td>1.18.0</td><td>1180</td><td>jw01180007001_06101_00001_nrcalong_cal.fits</td><td>117573120</td><td>224007792</td><td>PUBLIC</td><td>2</td><td>F356W</td></tr>\n",
       "<tr><td>223922492</td><td>JWST</td><td>image</td><td>jw01180007001_06101_00001_nrcblong</td><td>exposure (L2b): 2D calibrated exposure average over integrations</td><td>S</td><td>mast:JWST/product/jw01180007001_06101_00001_nrcblong_cal.fits</td><td>SCIENCE</td><td>--</td><td>CAL</td><td>--</td><td>CALJWST</td><td>1.18.0</td><td>1180</td><td>jw01180007001_06101_00001_nrcblong_cal.fits</td><td>117573120</td><td>224007792</td><td>PUBLIC</td><td>2</td><td>F356W</td></tr>\n",
       "<tr><td>95382563</td><td>JWST</td><td>image</td><td>jw01180007001_06101_00002_nrcalong</td><td>exposure (L2b): 2D calibrated exposure average over integrations</td><td>S</td><td>mast:JWST/product/jw01180007001_06101_00002_nrcalong_cal.fits</td><td>SCIENCE</td><td>--</td><td>CAL</td><td>--</td><td>CALJWST</td><td>1.18.0</td><td>1180</td><td>jw01180007001_06101_00002_nrcalong_cal.fits</td><td>117573120</td><td>224007792</td><td>PUBLIC</td><td>2</td><td>F356W</td></tr>\n",
       "<tr><td>95383048</td><td>JWST</td><td>image</td><td>jw01180007001_06101_00002_nrcblong</td><td>exposure (L2b): 2D calibrated exposure average over integrations</td><td>S</td><td>mast:JWST/product/jw01180007001_06101_00002_nrcblong_cal.fits</td><td>SCIENCE</td><td>--</td><td>CAL</td><td>--</td><td>CALJWST</td><td>1.18.0</td><td>1180</td><td>jw01180007001_06101_00002_nrcblong_cal.fits</td><td>117573120</td><td>224007792</td><td>PUBLIC</td><td>2</td><td>F356W</td></tr>\n",
       "<tr><td>223881812</td><td>JWST</td><td>image</td><td>jw01180007001_06101_00003_nrcalong</td><td>exposure (L2b): 2D calibrated exposure average over integrations</td><td>S</td><td>mast:JWST/product/jw01180007001_06101_00003_nrcalong_cal.fits</td><td>SCIENCE</td><td>--</td><td>CAL</td><td>--</td><td>CALJWST</td><td>1.18.0</td><td>1180</td><td>jw01180007001_06101_00003_nrcalong_cal.fits</td><td>117573120</td><td>224007792</td><td>PUBLIC</td><td>2</td><td>F356W</td></tr>\n",
       "<tr><td>95382947</td><td>JWST</td><td>image</td><td>jw01180007001_06101_00003_nrcblong</td><td>exposure (L2b): 2D calibrated exposure average over integrations</td><td>S</td><td>mast:JWST/product/jw01180007001_06101_00003_nrcblong_cal.fits</td><td>SCIENCE</td><td>--</td><td>CAL</td><td>--</td><td>CALJWST</td><td>1.18.0</td><td>1180</td><td>jw01180007001_06101_00003_nrcblong_cal.fits</td><td>117573120</td><td>224007792</td><td>PUBLIC</td><td>2</td><td>F356W</td></tr>\n",
       "<tr><td>223861921</td><td>JWST</td><td>image</td><td>jw01180007001_06101_00004_nrcalong</td><td>exposure (L2b): 2D calibrated exposure average over integrations</td><td>S</td><td>mast:JWST/product/jw01180007001_06101_00004_nrcalong_cal.fits</td><td>SCIENCE</td><td>--</td><td>CAL</td><td>--</td><td>CALJWST</td><td>1.18.0</td><td>1180</td><td>jw01180007001_06101_00004_nrcalong_cal.fits</td><td>117573120</td><td>224007792</td><td>PUBLIC</td><td>2</td><td>F356W</td></tr>\n",
       "<tr><td>95383023</td><td>JWST</td><td>image</td><td>jw01180007001_06101_00004_nrcblong</td><td>exposure (L2b): 2D calibrated exposure average over integrations</td><td>S</td><td>mast:JWST/product/jw01180007001_06101_00004_nrcblong_cal.fits</td><td>SCIENCE</td><td>--</td><td>CAL</td><td>--</td><td>CALJWST</td><td>1.18.0</td><td>1180</td><td>jw01180007001_06101_00004_nrcblong_cal.fits</td><td>117573120</td><td>224007792</td><td>PUBLIC</td><td>2</td><td>F356W</td></tr>\n",
       "<tr><td>95382620</td><td>JWST</td><td>image</td><td>jw01180007001_06101_00005_nrcalong</td><td>exposure (L2b): 2D calibrated exposure average over integrations</td><td>S</td><td>mast:JWST/product/jw01180007001_06101_00005_nrcalong_cal.fits</td><td>SCIENCE</td><td>--</td><td>CAL</td><td>--</td><td>CALJWST</td><td>1.18.0</td><td>1180</td><td>jw01180007001_06101_00005_nrcalong_cal.fits</td><td>117573120</td><td>224007792</td><td>PUBLIC</td><td>2</td><td>F356W</td></tr>\n",
       "<tr><td>...</td><td>...</td><td>...</td><td>...</td><td>...</td><td>...</td><td>...</td><td>...</td><td>...</td><td>...</td><td>...</td><td>...</td><td>...</td><td>...</td><td>...</td><td>...</td><td>...</td><td>...</td><td>...</td><td>...</td></tr>\n",
       "<tr><td>223904526</td><td>JWST</td><td>image</td><td>jw01180223001_10101_00005_nrcb3</td><td>exposure (L2b): 2D calibrated exposure average over integrations</td><td>S</td><td>mast:JWST/product/jw01180223001_10101_00005_nrcb3_cal.fits</td><td>SCIENCE</td><td>--</td><td>CAL</td><td>--</td><td>CALJWST</td><td>1.18.0</td><td>1180</td><td>jw01180223001_10101_00005_nrcb3_cal.fits</td><td>117576000</td><td>200061663</td><td>PUBLIC</td><td>2</td><td>F200W</td></tr>\n",
       "<tr><td>223886561</td><td>JWST</td><td>image</td><td>jw01180223001_10101_00005_nrcb4</td><td>exposure (L2b): 2D calibrated exposure average over integrations</td><td>S</td><td>mast:JWST/product/jw01180223001_10101_00005_nrcb4_cal.fits</td><td>SCIENCE</td><td>--</td><td>CAL</td><td>--</td><td>CALJWST</td><td>1.18.0</td><td>1180</td><td>jw01180223001_10101_00005_nrcb4_cal.fits</td><td>117576000</td><td>200061663</td><td>PUBLIC</td><td>2</td><td>F200W</td></tr>\n",
       "<tr><td>200018669</td><td>JWST</td><td>image</td><td>jw01180223001_10101_00006_nrca1</td><td>exposure (L2b): 2D calibrated exposure average over integrations</td><td>S</td><td>mast:JWST/product/jw01180223001_10101_00006_nrca1_cal.fits</td><td>SCIENCE</td><td>--</td><td>CAL</td><td>--</td><td>CALJWST</td><td>1.18.0</td><td>1180</td><td>jw01180223001_10101_00006_nrca1_cal.fits</td><td>117570240</td><td>200061663</td><td>PUBLIC</td><td>2</td><td>F200W</td></tr>\n",
       "<tr><td>223898552</td><td>JWST</td><td>image</td><td>jw01180223001_10101_00006_nrca2</td><td>exposure (L2b): 2D calibrated exposure average over integrations</td><td>S</td><td>mast:JWST/product/jw01180223001_10101_00006_nrca2_cal.fits</td><td>SCIENCE</td><td>--</td><td>CAL</td><td>--</td><td>CALJWST</td><td>1.18.0</td><td>1180</td><td>jw01180223001_10101_00006_nrca2_cal.fits</td><td>117570240</td><td>200061663</td><td>PUBLIC</td><td>2</td><td>F200W</td></tr>\n",
       "<tr><td>200019481</td><td>JWST</td><td>image</td><td>jw01180223001_10101_00006_nrca3</td><td>exposure (L2b): 2D calibrated exposure average over integrations</td><td>S</td><td>mast:JWST/product/jw01180223001_10101_00006_nrca3_cal.fits</td><td>SCIENCE</td><td>--</td><td>CAL</td><td>--</td><td>CALJWST</td><td>1.18.0</td><td>1180</td><td>jw01180223001_10101_00006_nrca3_cal.fits</td><td>117576000</td><td>200061663</td><td>PUBLIC</td><td>2</td><td>F200W</td></tr>\n",
       "<tr><td>223882964</td><td>JWST</td><td>image</td><td>jw01180223001_10101_00006_nrca4</td><td>exposure (L2b): 2D calibrated exposure average over integrations</td><td>S</td><td>mast:JWST/product/jw01180223001_10101_00006_nrca4_cal.fits</td><td>SCIENCE</td><td>--</td><td>CAL</td><td>--</td><td>CALJWST</td><td>1.18.0</td><td>1180</td><td>jw01180223001_10101_00006_nrca4_cal.fits</td><td>117576000</td><td>200061663</td><td>PUBLIC</td><td>2</td><td>F200W</td></tr>\n",
       "<tr><td>200019600</td><td>JWST</td><td>image</td><td>jw01180223001_10101_00006_nrcb1</td><td>exposure (L2b): 2D calibrated exposure average over integrations</td><td>S</td><td>mast:JWST/product/jw01180223001_10101_00006_nrcb1_cal.fits</td><td>SCIENCE</td><td>--</td><td>CAL</td><td>--</td><td>CALJWST</td><td>1.18.0</td><td>1180</td><td>jw01180223001_10101_00006_nrcb1_cal.fits</td><td>117576000</td><td>200061663</td><td>PUBLIC</td><td>2</td><td>F200W</td></tr>\n",
       "<tr><td>200019566</td><td>JWST</td><td>image</td><td>jw01180223001_10101_00006_nrcb2</td><td>exposure (L2b): 2D calibrated exposure average over integrations</td><td>S</td><td>mast:JWST/product/jw01180223001_10101_00006_nrcb2_cal.fits</td><td>SCIENCE</td><td>--</td><td>CAL</td><td>--</td><td>CALJWST</td><td>1.18.0</td><td>1180</td><td>jw01180223001_10101_00006_nrcb2_cal.fits</td><td>117576000</td><td>200061663</td><td>PUBLIC</td><td>2</td><td>F200W</td></tr>\n",
       "<tr><td>223880548</td><td>JWST</td><td>image</td><td>jw01180223001_10101_00006_nrcb3</td><td>exposure (L2b): 2D calibrated exposure average over integrations</td><td>S</td><td>mast:JWST/product/jw01180223001_10101_00006_nrcb3_cal.fits</td><td>SCIENCE</td><td>--</td><td>CAL</td><td>--</td><td>CALJWST</td><td>1.18.0</td><td>1180</td><td>jw01180223001_10101_00006_nrcb3_cal.fits</td><td>117576000</td><td>200061663</td><td>PUBLIC</td><td>2</td><td>F200W</td></tr>\n",
       "<tr><td>200019639</td><td>JWST</td><td>image</td><td>jw01180223001_10101_00006_nrcb4</td><td>exposure (L2b): 2D calibrated exposure average over integrations</td><td>S</td><td>mast:JWST/product/jw01180223001_10101_00006_nrcb4_cal.fits</td><td>SCIENCE</td><td>--</td><td>CAL</td><td>--</td><td>CALJWST</td><td>1.18.0</td><td>1180</td><td>jw01180223001_10101_00006_nrcb4_cal.fits</td><td>117576000</td><td>200061663</td><td>PUBLIC</td><td>2</td><td>F200W</td></tr>\n",
       "</table></div>"
      ],
      "text/plain": [
       "<Table length=1398>\n",
       "  obsID   obs_collection dataproduct_type ... dataRights calib_level filters\n",
       "   str9        str4            str5       ...    str6       int64      str5 \n",
       "--------- -------------- ---------------- ... ---------- ----------- -------\n",
       " 95382616           JWST            image ...     PUBLIC           2   F356W\n",
       "223922492           JWST            image ...     PUBLIC           2   F356W\n",
       " 95382563           JWST            image ...     PUBLIC           2   F356W\n",
       " 95383048           JWST            image ...     PUBLIC           2   F356W\n",
       "223881812           JWST            image ...     PUBLIC           2   F356W\n",
       " 95382947           JWST            image ...     PUBLIC           2   F356W\n",
       "223861921           JWST            image ...     PUBLIC           2   F356W\n",
       " 95383023           JWST            image ...     PUBLIC           2   F356W\n",
       " 95382620           JWST            image ...     PUBLIC           2   F356W\n",
       "      ...            ...              ... ...        ...         ...     ...\n",
       "223904526           JWST            image ...     PUBLIC           2   F200W\n",
       "223886561           JWST            image ...     PUBLIC           2   F200W\n",
       "200018669           JWST            image ...     PUBLIC           2   F200W\n",
       "223898552           JWST            image ...     PUBLIC           2   F200W\n",
       "200019481           JWST            image ...     PUBLIC           2   F200W\n",
       "223882964           JWST            image ...     PUBLIC           2   F200W\n",
       "200019600           JWST            image ...     PUBLIC           2   F200W\n",
       "200019566           JWST            image ...     PUBLIC           2   F200W\n",
       "223880548           JWST            image ...     PUBLIC           2   F200W\n",
       "200019639           JWST            image ...     PUBLIC           2   F200W"
      ]
     },
     "execution_count": 9,
     "metadata": {},
     "output_type": "execute_result"
    }
   ],
   "source": [
    "products = Observations.filter_products(prod,\n",
    "                                        productSubGroupDescription=[\"CAL\"],\n",
    "                                        extension=\"fits\")\n",
    "products"
   ]
  },
  {
   "cell_type": "code",
   "execution_count": 10,
   "id": "f0555fd6-23a8-4432-bb5d-ad4230d3c41b",
   "metadata": {},
   "outputs": [],
   "source": [
    "epoch_1 = [\"jw01180015001_10101_00006_nrcb2\",\n",
    "\"jw01180015001_10101_00003_nrcb2\",\n",
    "\"jw01180015001_10101_00008_nrcb2\",\n",
    "\"jw01180015001_10101_00009_nrcb2\",\n",
    "\"jw01180015001_10101_00007_nrcb2\",\n",
    "\"jw01180015001_10101_00001_nrcb2\",\n",
    "\"jw01180015001_10101_00004_nrcb2\",\n",
    "\"jw01180015001_10101_00005_nrcb2\",\n",
    "\"jw01180015001_10101_00002_nrcb2\",\n",
    "\"jw01180015001_06101_00007_nrcblong\",\n",
    "\"jw01180015001_06101_00005_nrcblong\",\n",
    "\"jw01180015001_06101_00001_nrcblong\",\n",
    "\"jw01180015001_06101_00002_nrcblong\",\n",
    "\"jw01180015001_06101_00006_nrcblong\",\n",
    "\"jw01180015001_06101_00004_nrcblong\",\n",
    "\"jw01180015001_06101_00009_nrcblong\",\n",
    "\"jw01180015001_06101_00003_nrcblong\",\n",
    "\"jw01180015001_06101_00008_nrcblong\"]\n",
    "\n",
    "epoch_2 =[\n",
    "    \"jw01180013001_10101_00009_nrcb2\",\n",
    "    \"jw01180013001_10101_00002_nrcb2\",\n",
    "    \"jw01180013001_10101_00007_nrcb2\",\n",
    "    \"jw01180013001_10101_00006_nrcb2\",\n",
    "    \"jw01180013001_10101_00003_nrcb2\",\n",
    "    \"jw01180013001_10101_00001_nrcb2\",\n",
    "    \"jw01180013001_10101_00008_nrcb2\",\n",
    "    \"jw01180013001_10101_00004_nrcb2\",\n",
    "    \"jw01180013001_10101_00005_nrcb2\",\n",
    "    \"jw01180013001_06101_00005_nrcblong\",\n",
    "    \"jw01180013001_06101_00004_nrcblong\",\n",
    "    \"jw01180013001_06101_00006_nrcblong\",\n",
    "    \"jw01180013001_06101_00002_nrcblong\",\n",
    "    \"jw01180013001_06101_00008_nrcblong\",\n",
    "    \"jw01180013001_06101_00009_nrcblong\",\n",
    "    \"jw01180013001_06101_00001_nrcblong\",\n",
    "    \"jw01180013001_06101_00007_nrcblong\",\n",
    "    \"jw01180013001_06101_00003_nrcblong\"\n",
    "]\n",
    "\n",
    "\n",
    "\n",
    "products_epoch1 = Observations.filter_products(prod,\n",
    "                                        productSubGroupDescription=[\"CAL\"],\n",
    "                                        extension=\"fits\",\n",
    "                                        obs_id=epoch_1)\n",
    "\n",
    "products_epoch2 = Observations.filter_products(prod,\n",
    "                                        productSubGroupDescription=[\"CAL\"],\n",
    "                                        extension=\"fits\",\n",
    "                                        obs_id=epoch_2)"
   ]
  },
  {
   "cell_type": "code",
   "execution_count": 12,
   "id": "6cfea1d4-b6f4-465d-b988-61de9f0269cb",
   "metadata": {},
   "outputs": [],
   "source": [
    "os.makedirs(\"./JADES_data/epoch1\", exist_ok=True)\n",
    "os.makedirs(\"./JADES_data/epoch2\", exist_ok=True)"
   ]
  },
  {
   "cell_type": "code",
   "execution_count": 13,
   "id": "2d213e41-c5a2-45d5-9c0f-5f94196bf2d7",
   "metadata": {},
   "outputs": [
    {
     "name": "stdout",
     "output_type": "stream",
     "text": [
      "Downloading URL https://mast.stsci.edu/api/v0.1/Download/file?uri=mast:JWST/product/jw01180015001_06101_00001_nrcblong_cal.fits to ./JADES_data/epoch1/jw01180015001_06101_00001_nrcblong_cal.fits ... [Done]\n",
      "Downloading URL https://mast.stsci.edu/api/v0.1/Download/file?uri=mast:JWST/product/jw01180015001_06101_00002_nrcblong_cal.fits to ./JADES_data/epoch1/jw01180015001_06101_00002_nrcblong_cal.fits ... [Done]\n",
      "Downloading URL https://mast.stsci.edu/api/v0.1/Download/file?uri=mast:JWST/product/jw01180015001_06101_00003_nrcblong_cal.fits to ./JADES_data/epoch1/jw01180015001_06101_00003_nrcblong_cal.fits ... [Done]\n",
      "Downloading URL https://mast.stsci.edu/api/v0.1/Download/file?uri=mast:JWST/product/jw01180015001_06101_00004_nrcblong_cal.fits to ./JADES_data/epoch1/jw01180015001_06101_00004_nrcblong_cal.fits ... [Done]\n",
      "Downloading URL https://mast.stsci.edu/api/v0.1/Download/file?uri=mast:JWST/product/jw01180015001_06101_00005_nrcblong_cal.fits to ./JADES_data/epoch1/jw01180015001_06101_00005_nrcblong_cal.fits ... [Done]\n",
      "Downloading URL https://mast.stsci.edu/api/v0.1/Download/file?uri=mast:JWST/product/jw01180015001_06101_00006_nrcblong_cal.fits to ./JADES_data/epoch1/jw01180015001_06101_00006_nrcblong_cal.fits ... [Done]\n",
      "Downloading URL https://mast.stsci.edu/api/v0.1/Download/file?uri=mast:JWST/product/jw01180015001_06101_00007_nrcblong_cal.fits to ./JADES_data/epoch1/jw01180015001_06101_00007_nrcblong_cal.fits ... [Done]\n",
      "Downloading URL https://mast.stsci.edu/api/v0.1/Download/file?uri=mast:JWST/product/jw01180015001_06101_00008_nrcblong_cal.fits to ./JADES_data/epoch1/jw01180015001_06101_00008_nrcblong_cal.fits ... [Done]\n",
      "Downloading URL https://mast.stsci.edu/api/v0.1/Download/file?uri=mast:JWST/product/jw01180015001_06101_00009_nrcblong_cal.fits to ./JADES_data/epoch1/jw01180015001_06101_00009_nrcblong_cal.fits ... [Done]\n",
      "Downloading URL https://mast.stsci.edu/api/v0.1/Download/file?uri=mast:JWST/product/jw01180015001_10101_00001_nrcb2_cal.fits to ./JADES_data/epoch1/jw01180015001_10101_00001_nrcb2_cal.fits ... [Done]\n",
      "Downloading URL https://mast.stsci.edu/api/v0.1/Download/file?uri=mast:JWST/product/jw01180015001_10101_00002_nrcb2_cal.fits to ./JADES_data/epoch1/jw01180015001_10101_00002_nrcb2_cal.fits ... [Done]\n",
      "Downloading URL https://mast.stsci.edu/api/v0.1/Download/file?uri=mast:JWST/product/jw01180015001_10101_00003_nrcb2_cal.fits to ./JADES_data/epoch1/jw01180015001_10101_00003_nrcb2_cal.fits ... [Done]\n",
      "Downloading URL https://mast.stsci.edu/api/v0.1/Download/file?uri=mast:JWST/product/jw01180015001_10101_00004_nrcb2_cal.fits to ./JADES_data/epoch1/jw01180015001_10101_00004_nrcb2_cal.fits ... [Done]\n",
      "Downloading URL https://mast.stsci.edu/api/v0.1/Download/file?uri=mast:JWST/product/jw01180015001_10101_00005_nrcb2_cal.fits to ./JADES_data/epoch1/jw01180015001_10101_00005_nrcb2_cal.fits ... [Done]\n",
      "Downloading URL https://mast.stsci.edu/api/v0.1/Download/file?uri=mast:JWST/product/jw01180015001_10101_00006_nrcb2_cal.fits to ./JADES_data/epoch1/jw01180015001_10101_00006_nrcb2_cal.fits ... [Done]\n",
      "Downloading URL https://mast.stsci.edu/api/v0.1/Download/file?uri=mast:JWST/product/jw01180015001_10101_00007_nrcb2_cal.fits to ./JADES_data/epoch1/jw01180015001_10101_00007_nrcb2_cal.fits ... [Done]\n",
      "Downloading URL https://mast.stsci.edu/api/v0.1/Download/file?uri=mast:JWST/product/jw01180015001_10101_00008_nrcb2_cal.fits to ./JADES_data/epoch1/jw01180015001_10101_00008_nrcb2_cal.fits ... [Done]\n",
      "Downloading URL https://mast.stsci.edu/api/v0.1/Download/file?uri=mast:JWST/product/jw01180015001_10101_00009_nrcb2_cal.fits to ./JADES_data/epoch1/jw01180015001_10101_00009_nrcb2_cal.fits ... [Done]\n"
     ]
    }
   ],
   "source": [
    "manifest1 = Observations.download_products(products_epoch1, download_dir=\"./JADES_data/epoch1\", flat=True)\n"
   ]
  },
  {
   "cell_type": "code",
   "execution_count": 15,
   "id": "a5f3bec5-233e-461d-b404-6f4c444836a0",
   "metadata": {},
   "outputs": [
    {
     "name": "stdout",
     "output_type": "stream",
     "text": [
      "Downloading URL https://mast.stsci.edu/api/v0.1/Download/file?uri=mast:JWST/product/jw01180013001_06101_00001_nrcblong_cal.fits to ./JADES_data/epoch2/jw01180013001_06101_00001_nrcblong_cal.fits ... [Done]\n",
      "Downloading URL https://mast.stsci.edu/api/v0.1/Download/file?uri=mast:JWST/product/jw01180013001_06101_00002_nrcblong_cal.fits to ./JADES_data/epoch2/jw01180013001_06101_00002_nrcblong_cal.fits ... [Done]\n",
      "Downloading URL https://mast.stsci.edu/api/v0.1/Download/file?uri=mast:JWST/product/jw01180013001_06101_00003_nrcblong_cal.fits to ./JADES_data/epoch2/jw01180013001_06101_00003_nrcblong_cal.fits ... [Done]\n",
      "Downloading URL https://mast.stsci.edu/api/v0.1/Download/file?uri=mast:JWST/product/jw01180013001_06101_00004_nrcblong_cal.fits to ./JADES_data/epoch2/jw01180013001_06101_00004_nrcblong_cal.fits ... [Done]\n",
      "Downloading URL https://mast.stsci.edu/api/v0.1/Download/file?uri=mast:JWST/product/jw01180013001_06101_00005_nrcblong_cal.fits to ./JADES_data/epoch2/jw01180013001_06101_00005_nrcblong_cal.fits ... [Done]\n",
      "Downloading URL https://mast.stsci.edu/api/v0.1/Download/file?uri=mast:JWST/product/jw01180013001_06101_00006_nrcblong_cal.fits to ./JADES_data/epoch2/jw01180013001_06101_00006_nrcblong_cal.fits ... [Done]\n",
      "Downloading URL https://mast.stsci.edu/api/v0.1/Download/file?uri=mast:JWST/product/jw01180013001_06101_00007_nrcblong_cal.fits to ./JADES_data/epoch2/jw01180013001_06101_00007_nrcblong_cal.fits ... [Done]\n",
      "Downloading URL https://mast.stsci.edu/api/v0.1/Download/file?uri=mast:JWST/product/jw01180013001_06101_00008_nrcblong_cal.fits to ./JADES_data/epoch2/jw01180013001_06101_00008_nrcblong_cal.fits ... [Done]\n",
      "Downloading URL https://mast.stsci.edu/api/v0.1/Download/file?uri=mast:JWST/product/jw01180013001_06101_00009_nrcblong_cal.fits to ./JADES_data/epoch2/jw01180013001_06101_00009_nrcblong_cal.fits ... [Done]\n",
      "Downloading URL https://mast.stsci.edu/api/v0.1/Download/file?uri=mast:JWST/product/jw01180013001_10101_00001_nrcb2_cal.fits to ./JADES_data/epoch2/jw01180013001_10101_00001_nrcb2_cal.fits ... [Done]\n",
      "Downloading URL https://mast.stsci.edu/api/v0.1/Download/file?uri=mast:JWST/product/jw01180013001_10101_00002_nrcb2_cal.fits to ./JADES_data/epoch2/jw01180013001_10101_00002_nrcb2_cal.fits ... [Done]\n",
      "Downloading URL https://mast.stsci.edu/api/v0.1/Download/file?uri=mast:JWST/product/jw01180013001_10101_00003_nrcb2_cal.fits to ./JADES_data/epoch2/jw01180013001_10101_00003_nrcb2_cal.fits ... [Done]\n",
      "Downloading URL https://mast.stsci.edu/api/v0.1/Download/file?uri=mast:JWST/product/jw01180013001_10101_00004_nrcb2_cal.fits to ./JADES_data/epoch2/jw01180013001_10101_00004_nrcb2_cal.fits ... [Done]\n",
      "Downloading URL https://mast.stsci.edu/api/v0.1/Download/file?uri=mast:JWST/product/jw01180013001_10101_00005_nrcb2_cal.fits to ./JADES_data/epoch2/jw01180013001_10101_00005_nrcb2_cal.fits ... [Done]\n",
      "Downloading URL https://mast.stsci.edu/api/v0.1/Download/file?uri=mast:JWST/product/jw01180013001_10101_00006_nrcb2_cal.fits to ./JADES_data/epoch2/jw01180013001_10101_00006_nrcb2_cal.fits ... [Done]\n",
      "Downloading URL https://mast.stsci.edu/api/v0.1/Download/file?uri=mast:JWST/product/jw01180013001_10101_00007_nrcb2_cal.fits to ./JADES_data/epoch2/jw01180013001_10101_00007_nrcb2_cal.fits ... [Done]\n",
      "Downloading URL https://mast.stsci.edu/api/v0.1/Download/file?uri=mast:JWST/product/jw01180013001_10101_00008_nrcb2_cal.fits to ./JADES_data/epoch2/jw01180013001_10101_00008_nrcb2_cal.fits ... [Done]\n",
      "Downloading URL https://mast.stsci.edu/api/v0.1/Download/file?uri=mast:JWST/product/jw01180013001_10101_00009_nrcb2_cal.fits to ./JADES_data/epoch2/jw01180013001_10101_00009_nrcb2_cal.fits ... [Done]\n"
     ]
    }
   ],
   "source": [
    "manifest2 = Observations.download_products(products_epoch2, download_dir=\"./JADES_data/epoch2\", flat=True)"
   ]
  },
  {
   "cell_type": "code",
   "execution_count": null,
   "id": "4bc50a8d-313a-4285-974c-471c3a3c98da",
   "metadata": {},
   "outputs": [],
   "source": []
  }
 ],
 "metadata": {
  "kernelspec": {
   "display_name": "Python 3 (ipykernel)",
   "language": "python",
   "name": "python3"
  },
  "language_info": {
   "codemirror_mode": {
    "name": "ipython",
    "version": 3
   },
   "file_extension": ".py",
   "mimetype": "text/x-python",
   "name": "python",
   "nbconvert_exporter": "python",
   "pygments_lexer": "ipython3",
   "version": "3.11.13"
  }
 },
 "nbformat": 4,
 "nbformat_minor": 5
}

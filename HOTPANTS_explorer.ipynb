{
 "cells": [
  {
   "cell_type": "markdown",
   "id": "0",
   "metadata": {},
   "source": [
    "<img style=\"float: center;\" src='./assets/jWST-SS-1300x300_Banner2.jpg' width=\"1000px\"/> "
   ]
  },
  {
   "cell_type": "code",
   "execution_count": null,
   "id": "1",
   "metadata": {},
   "outputs": [],
   "source": [
    "# Run this if you need it!\n",
    "#! pip install ipympl --upgrade"
   ]
  },
  {
   "cell_type": "code",
   "execution_count": null,
   "id": "2",
   "metadata": {},
   "outputs": [],
   "source": [
    "%matplotlib widget"
   ]
  },
  {
   "cell_type": "code",
   "execution_count": null,
   "id": "3",
   "metadata": {},
   "outputs": [],
   "source": [
    "from astropy.io import fits\n",
    "import numpy as np\n",
    "import matplotlib.pyplot as plt\n",
    "from matplotlib.patches import Rectangle\n",
    "from ipywidgets import interact, FloatSlider, IntSlider, Button, VBox, HBox"
   ]
  },
  {
   "cell_type": "code",
   "execution_count": null,
   "id": "4",
   "metadata": {},
   "outputs": [],
   "source": [
    "image = fits.open('./epoch2_mosaic/f200w_epoch2_i2d.fits')[1].data\n",
    "\n",
    "box_centers = []\n",
    "with open('./diff/F200W_epoch2_epoch1.diff.stampxy.reg.all','r') as f:\n",
    "    boxes = f.readlines()\n",
    "for box in boxes:\n",
    "    if box.startswith('image'):\n",
    "        boxstr = box[box.find('(')+1:box.find(',11,')].split(',')\n",
    "        if len(boxstr)==1:\n",
    "            print(box)\n",
    "        box_centers.append(np.array(boxstr).astype(int))\n"
   ]
  },
  {
   "cell_type": "code",
   "execution_count": null,
   "id": "5",
   "metadata": {},
   "outputs": [],
   "source": [
    "box_size = 11  # pixels\n",
    "\n",
    "# State variables\n",
    "view_state = {\"zoom\": None}\n",
    "\n",
    "plt.close()\n",
    "view_state = {\"zoom\": None}\n",
    "fig, ax = plt.subplots()\n",
    "\n",
    "def plot_image():\n",
    "    ax.clear()\n",
    "\n",
    "    N = N_slider.value\n",
    "    contrast = contrast_slider.value\n",
    "\n",
    "    # Compute contrast bounds\n",
    "    mean_val = np.nanmean(image)\n",
    "    std_val = np.nanstd(image)\n",
    "    vmin = mean_val - contrast * std_val\n",
    "    vmax = mean_val + contrast * std_val\n",
    "\n",
    "    if view_state[\"zoom\"] is not None:\n",
    "        (x0, x1, y0, y1) = view_state[\"zoom\"]\n",
    "        subimg = image[y0:y1, x0:x1]\n",
    "        ax.imshow(subimg, origin='lower', cmap='gray', extent=(x0, x1, y0, y1),\n",
    "                  vmin=vmin, vmax=vmax)\n",
    "    else:\n",
    "        ax.imshow(image, origin='lower', cmap='gray', vmin=vmin, vmax=vmax)\n",
    "        # Draw grid\n",
    "        ny, nx = image.shape\n",
    "        for i in range(1, N):\n",
    "            ax.axhline(i * ny / N, color='yellow', lw=0.5)\n",
    "            ax.axvline(i * nx / N, color='yellow', lw=0.5)\n",
    "\n",
    "    # Draw boxes\n",
    "    half = box_size / 2\n",
    "    for (xc, yc) in box_centers:\n",
    "        rect = Rectangle((xc - half, yc - half), box_size, box_size,\n",
    "                         linewidth=1, edgecolor='red', facecolor='none')\n",
    "        ax.add_patch(rect)\n",
    "\n",
    "    ax.set_title(f\"Contrast: {contrast:.2f}\")\n",
    "    fig.canvas.draw_idle()\n",
    "\n",
    "def on_click(event):\n",
    "    if event.inaxes != ax:\n",
    "        return\n",
    "    if view_state[\"zoom\"] is not None:\n",
    "        return\n",
    "    N = N_slider.value\n",
    "    ny, nx = image.shape\n",
    "    i = int(event.xdata / (nx / N))\n",
    "    j = int(event.ydata / (ny / N))\n",
    "    x0 = int(i * nx / N)\n",
    "    x1 = int((i + 1) * nx / N)\n",
    "    y0 = int(j * ny / N)\n",
    "    y1 = int((j + 1) * ny / N)\n",
    "    view_state[\"zoom\"] = (x0, x1, y0, y1)\n",
    "    plot_image()\n",
    "\n",
    "def reset_view(_=None):\n",
    "    view_state[\"zoom\"] = None\n",
    "    plot_image()\n",
    "\n",
    "# Widgets\n",
    "N_slider = IntSlider(value=5, min=0, max=25, step=1, description='Grid N')\n",
    "contrast_slider = FloatSlider(value=1.0, min=0.1, max=3.0, step=0.1, description='Contrast')\n",
    "reset_button = Button(description=\"Reset View\", button_style='info')\n",
    "\n",
    "# Link events (no lambdas — direct calls)\n",
    "N_slider.observe(lambda change: plot_image(), names='value')\n",
    "contrast_slider.observe(lambda change: plot_image(), names='value')\n",
    "reset_button.on_click(reset_view)\n",
    "\n",
    "# Connect click event\n",
    "fig.canvas.mpl_connect('button_press_event', on_click)\n",
    "\n",
    "# Display\n",
    "controls = VBox([HBox([N_slider, contrast_slider]), reset_button])\n",
    "display(controls)\n",
    "\n",
    "# Initial draw\n",
    "plot_image()"
   ]
  },
  {
   "cell_type": "code",
   "execution_count": null,
   "id": "6",
   "metadata": {},
   "outputs": [],
   "source": []
  }
 ],
 "metadata": {
  "kernelspec": {
   "display_name": "Python 3 (ipykernel)",
   "language": "python",
   "name": "python3"
  },
  "language_info": {
   "codemirror_mode": {
    "name": "ipython",
    "version": 3
   },
   "file_extension": ".py",
   "mimetype": "text/x-python",
   "name": "python",
   "nbconvert_exporter": "python",
   "pygments_lexer": "ipython3",
   "version": "3.11.13"
  }
 },
 "nbformat": 4,
 "nbformat_minor": 5
}
